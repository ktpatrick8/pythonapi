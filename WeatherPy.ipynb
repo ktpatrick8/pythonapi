{
 "cells": [
  {
   "cell_type": "code",
   "execution_count": 1,
   "metadata": {},
   "outputs": [],
   "source": [
    "# Dependencies and Setup\n",
    "import matplotlib.pyplot as plt\n",
    "import pandas as pd\n",
    "import numpy as np\n",
    "import requests\n",
    "import time\n",
    "from scipy.stats import linregress\n",
    "import scipy.stats as st\n",
    "\n",
    "# Import API key\n",
    "from api_keys import weather_api_key\n",
    "\n",
    "# Incorporated citipy to determine city based on latitude and longitude\n",
    "from citipy import citipy\n",
    "\n",
    "# Output File (CSV)\n",
    "output_data_file = \"output_data/cities.csv\"\n",
    "\n",
    "# Range of latitudes and longitudes\n",
    "lat_range = (-90, 90)\n",
    "lng_range = (-180, 180)"
   ]
  },
  {
   "cell_type": "code",
   "execution_count": 2,
   "metadata": {},
   "outputs": [
    {
     "data": {
      "text/plain": [
       "600"
      ]
     },
     "execution_count": 2,
     "metadata": {},
     "output_type": "execute_result"
    }
   ],
   "source": [
    " # List for holding lat_lngs and cities\n",
    "lat_lngs = []\n",
    "cities = []\n",
    "\n",
    "# Create a set of random lat and lng combinations\n",
    "lats = np.random.uniform(lat_range[0], lat_range[1], size=1500)\n",
    "lngs = np.random.uniform(lng_range[0], lng_range[1], size=1500)\n",
    "lat_lngs = zip(lats, lngs)\n",
    "\n",
    "# Identify nearest city for each lat, lng combination\n",
    "for lat_lng in lat_lngs:\n",
    "    city = citipy.nearest_city(lat_lng[0], lat_lng[1]).city_name\n",
    "    \n",
    "    # If the city is unique, then add it to a our cities list\n",
    "    if city not in cities:\n",
    "        cities.append(city)\n",
    "\n",
    "# Print the city count to confirm sufficient count\n",
    "len(cities)"
   ]
  },
  {
   "cell_type": "code",
   "execution_count": 3,
   "metadata": {},
   "outputs": [
    {
     "name": "stdout",
     "output_type": "stream",
     "text": [
      "Processing Record 1 of Set 1 | cape town\n",
      "Processing Record 2 of Set 1 | dikson\n",
      "Processing Record 3 of Set 1 | saint-malo\n",
      "Processing Record 4 of Set 1 | pitea\n",
      "Processing Record 5 of Set 1 | muros\n",
      "Processing Record 6 of Set 1 | beringovskiy\n",
      "Processing Record 7 of Set 1 | hermanus\n",
      "Processing Record 8 of Set 1 | rikitea\n",
      "Processing Record 9 of Set 1 | upernavik\n",
      "Processing Record 10 of Set 1 | port alfred\n",
      "Processing Record 11 of Set 1 | hilo\n",
      "Processing Record 12 of Set 1 | san policarpo\n",
      "Processing Record 13 of Set 1 | ushuaia\n",
      "Processing Record 14 of Set 1 | carnarvon\n",
      "Processing Record 15 of Set 1 | bireun\n",
      "Processing Record 16 of Set 1 | mountain home\n",
      "City not found. Skipping...\n",
      "Processing Record 17 of Set 1 | georgetown\n",
      "Processing Record 18 of Set 1 | saint george\n",
      "City not found. Skipping...\n",
      "Processing Record 19 of Set 1 | baiyin\n",
      "Processing Record 20 of Set 1 | hobart\n",
      "Processing Record 21 of Set 1 | kruisfontein\n",
      "Processing Record 22 of Set 1 | talnakh\n",
      "City not found. Skipping...\n",
      "Processing Record 23 of Set 1 | cairns\n",
      "Processing Record 24 of Set 1 | hofn\n",
      "Processing Record 25 of Set 1 | souillac\n",
      "Processing Record 26 of Set 1 | chokurdakh\n",
      "City not found. Skipping...\n",
      "City not found. Skipping...\n",
      "Processing Record 27 of Set 1 | hithadhoo\n",
      "City not found. Skipping...\n",
      "Processing Record 28 of Set 1 | puerto ayora\n",
      "Processing Record 29 of Set 1 | jamestown\n",
      "Processing Record 30 of Set 1 | yellowknife\n",
      "Processing Record 31 of Set 1 | lompoc\n",
      "Processing Record 32 of Set 1 | butaritari\n",
      "Processing Record 33 of Set 1 | victoria\n",
      "Processing Record 34 of Set 1 | cabo san lucas\n",
      "Processing Record 35 of Set 1 | albany\n",
      "Processing Record 36 of Set 1 | piacabucu\n",
      "Processing Record 37 of Set 1 | atuona\n",
      "Processing Record 38 of Set 1 | bambous virieux\n",
      "Processing Record 39 of Set 1 | poya\n",
      "Processing Record 40 of Set 1 | mount gambier\n",
      "City not found. Skipping...\n",
      "Processing Record 41 of Set 1 | kavieng\n",
      "Processing Record 42 of Set 1 | punta arenas\n",
      "Processing Record 43 of Set 1 | kaupanger\n",
      "Processing Record 44 of Set 1 | khatanga\n",
      "Processing Record 45 of Set 1 | darab\n",
      "Processing Record 46 of Set 1 | tiksi\n",
      "Processing Record 47 of Set 1 | bredasdorp\n",
      "City not found. Skipping...\n",
      "City not found. Skipping...\n",
      "Processing Record 48 of Set 1 | norman wells\n",
      "Processing Record 49 of Set 1 | greenville\n",
      "Processing Record 50 of Set 1 | kapaa\n",
      "Processing Record 1 of Set 2 | vanavara\n",
      "Processing Record 2 of Set 2 | busselton\n",
      "Processing Record 3 of Set 2 | kifri\n",
      "Processing Record 4 of Set 2 | longyearbyen\n",
      "Processing Record 5 of Set 2 | aksha\n",
      "Processing Record 6 of Set 2 | vaini\n",
      "Processing Record 7 of Set 2 | batemans bay\n",
      "Processing Record 8 of Set 2 | wenling\n",
      "Processing Record 9 of Set 2 | umea\n",
      "Processing Record 10 of Set 2 | mataura\n",
      "Processing Record 11 of Set 2 | saskylakh\n",
      "Processing Record 12 of Set 2 | robertsport\n",
      "Processing Record 13 of Set 2 | geraldton\n",
      "Processing Record 14 of Set 2 | berlevag\n",
      "Processing Record 15 of Set 2 | sorland\n",
      "Processing Record 16 of Set 2 | nattam\n",
      "Processing Record 17 of Set 2 | port elizabeth\n",
      "Processing Record 18 of Set 2 | kodiak\n",
      "Processing Record 19 of Set 2 | castro\n",
      "Processing Record 20 of Set 2 | thompson\n",
      "Processing Record 21 of Set 2 | mount isa\n",
      "Processing Record 22 of Set 2 | faanui\n",
      "Processing Record 23 of Set 2 | chuy\n",
      "Processing Record 24 of Set 2 | vangaindrano\n",
      "Processing Record 25 of Set 2 | asau\n",
      "Processing Record 26 of Set 2 | arraial do cabo\n",
      "Processing Record 27 of Set 2 | polazna\n",
      "Processing Record 28 of Set 2 | sao filipe\n",
      "City not found. Skipping...\n",
      "Processing Record 29 of Set 2 | sur\n",
      "Processing Record 30 of Set 2 | wasilla\n",
      "Processing Record 31 of Set 2 | avarua\n",
      "Processing Record 32 of Set 2 | darhan\n",
      "City not found. Skipping...\n",
      "Processing Record 33 of Set 2 | fairbanks\n",
      "Processing Record 34 of Set 2 | thinadhoo\n",
      "Processing Record 35 of Set 2 | srandakan\n",
      "Processing Record 36 of Set 2 | abay\n",
      "Processing Record 37 of Set 2 | pisco\n",
      "Processing Record 38 of Set 2 | samarai\n",
      "Processing Record 39 of Set 2 | shieli\n",
      "Processing Record 40 of Set 2 | saint-georges\n",
      "Processing Record 41 of Set 2 | finnsnes\n",
      "Processing Record 42 of Set 2 | gwadar\n",
      "Processing Record 43 of Set 2 | salym\n",
      "City not found. Skipping...\n",
      "Processing Record 44 of Set 2 | klaksvik\n",
      "Processing Record 45 of Set 2 | tete\n",
      "Processing Record 46 of Set 2 | ruthin\n",
      "Processing Record 47 of Set 2 | makkaveyevo\n",
      "City not found. Skipping...\n",
      "City not found. Skipping...\n",
      "Processing Record 48 of Set 2 | dali\n",
      "Processing Record 49 of Set 2 | anadyr\n",
      "City not found. Skipping...\n",
      "Processing Record 50 of Set 2 | taoudenni\n",
      "Processing Record 1 of Set 3 | brighton\n",
      "Processing Record 2 of Set 3 | bethel\n",
      "Processing Record 3 of Set 3 | nikolskoye\n",
      "Processing Record 4 of Set 3 | san quintin\n",
      "Processing Record 5 of Set 3 | acarau\n",
      "Processing Record 6 of Set 3 | noyabrsk\n",
      "Processing Record 7 of Set 3 | kahului\n",
      "Processing Record 8 of Set 3 | yakeshi\n",
      "Processing Record 9 of Set 3 | mehamn\n",
      "Processing Record 10 of Set 3 | provideniya\n",
      "Processing Record 11 of Set 3 | paralimni\n",
      "Processing Record 12 of Set 3 | port moresby\n",
      "Processing Record 13 of Set 3 | bambari\n",
      "Processing Record 14 of Set 3 | taldan\n",
      "Processing Record 15 of Set 3 | la ronge\n",
      "Processing Record 16 of Set 3 | nabire\n",
      "Processing Record 17 of Set 3 | marataizes\n",
      "Processing Record 18 of Set 3 | kashi\n",
      "Processing Record 19 of Set 3 | yar-sale\n",
      "Processing Record 20 of Set 3 | severo-kurilsk\n",
      "Processing Record 21 of Set 3 | boende\n",
      "Processing Record 22 of Set 3 | esperance\n",
      "Processing Record 23 of Set 3 | haines junction\n",
      "Processing Record 24 of Set 3 | tres arroyos\n",
      "City not found. Skipping...\n",
      "Processing Record 25 of Set 3 | leshukonskoye\n",
      "City not found. Skipping...\n",
      "Processing Record 26 of Set 3 | pemangkat\n",
      "Processing Record 27 of Set 3 | trinidad\n",
      "Processing Record 28 of Set 3 | kamaishi\n",
      "Processing Record 29 of Set 3 | narsaq\n",
      "Processing Record 30 of Set 3 | tasiilaq\n",
      "Processing Record 31 of Set 3 | porto walter\n",
      "Processing Record 32 of Set 3 | vostok\n",
      "Processing Record 33 of Set 3 | tual\n",
      "Processing Record 34 of Set 3 | sola\n",
      "Processing Record 35 of Set 3 | pathein\n",
      "City not found. Skipping...\n",
      "Processing Record 36 of Set 3 | meadow lake\n",
      "Processing Record 37 of Set 3 | meulaboh\n",
      "Processing Record 38 of Set 3 | bluff\n",
      "Processing Record 39 of Set 3 | lagoa\n",
      "Processing Record 40 of Set 3 | juegang\n",
      "Processing Record 41 of Set 3 | pangkalanbuun\n",
      "Processing Record 42 of Set 3 | windhoek\n",
      "Processing Record 43 of Set 3 | touros\n",
      "Processing Record 44 of Set 3 | torbay\n",
      "Processing Record 45 of Set 3 | lorengau\n",
      "Processing Record 46 of Set 3 | chiredzi\n",
      "Processing Record 47 of Set 3 | karasjok\n",
      "Processing Record 48 of Set 3 | barrow\n",
      "Processing Record 49 of Set 3 | dryden\n",
      "Processing Record 50 of Set 3 | vuktyl\n",
      "Processing Record 1 of Set 4 | mar del plata\n",
      "Processing Record 2 of Set 4 | vao\n",
      "Processing Record 3 of Set 4 | brae\n",
      "Processing Record 4 of Set 4 | laguna\n",
      "Processing Record 5 of Set 4 | ekibastuz\n",
      "Processing Record 6 of Set 4 | svetlyy\n",
      "Processing Record 7 of Set 4 | coahuayana\n",
      "Processing Record 8 of Set 4 | azul\n",
      "Processing Record 9 of Set 4 | praia da vitoria\n",
      "City not found. Skipping...\n",
      "Processing Record 10 of Set 4 | saint-philippe\n",
      "Processing Record 11 of Set 4 | minab\n",
      "Processing Record 12 of Set 4 | iqaluit\n",
      "Processing Record 13 of Set 4 | viedma\n",
      "Processing Record 14 of Set 4 | olafsvik\n",
      "Processing Record 15 of Set 4 | aojiang\n",
      "Processing Record 16 of Set 4 | aklavik\n",
      "Processing Record 17 of Set 4 | grindavik\n",
      "Processing Record 18 of Set 4 | khovu-aksy\n",
      "Processing Record 19 of Set 4 | bengkulu\n",
      "Processing Record 20 of Set 4 | prince rupert\n",
      "City not found. Skipping...\n",
      "Processing Record 21 of Set 4 | chapais\n",
      "Processing Record 22 of Set 4 | atambua\n",
      "Processing Record 23 of Set 4 | pangnirtung\n",
      "Processing Record 24 of Set 4 | buraydah\n",
      "Processing Record 25 of Set 4 | tsiroanomandidy\n",
      "Processing Record 26 of Set 4 | katsuura\n",
      "Processing Record 27 of Set 4 | hurghada\n",
      "Processing Record 28 of Set 4 | akdepe\n",
      "Processing Record 29 of Set 4 | barcarena\n",
      "Processing Record 30 of Set 4 | veisiejai\n",
      "Processing Record 31 of Set 4 | kupang\n",
      "Processing Record 32 of Set 4 | mogadishu\n",
      "Processing Record 33 of Set 4 | superior\n",
      "Processing Record 34 of Set 4 | sao joao da barra\n",
      "City not found. Skipping...\n",
      "Processing Record 35 of Set 4 | kendari\n",
      "City not found. Skipping...\n"
     ]
    },
    {
     "name": "stdout",
     "output_type": "stream",
     "text": [
      "Processing Record 36 of Set 4 | sinjar\n",
      "Processing Record 37 of Set 4 | tuktoyaktuk\n",
      "Processing Record 38 of Set 4 | itarema\n",
      "Processing Record 39 of Set 4 | tilichiki\n",
      "Processing Record 40 of Set 4 | bonoua\n",
      "Processing Record 41 of Set 4 | horsham\n",
      "Processing Record 42 of Set 4 | turbat\n",
      "Processing Record 43 of Set 4 | codrington\n",
      "Processing Record 44 of Set 4 | hailar\n",
      "City not found. Skipping...\n",
      "Processing Record 45 of Set 4 | jishou\n",
      "Processing Record 46 of Set 4 | honningsvag\n",
      "Processing Record 47 of Set 4 | goderich\n",
      "Processing Record 48 of Set 4 | hatta\n",
      "Processing Record 49 of Set 4 | mnogovershinnyy\n",
      "Processing Record 50 of Set 4 | baruun-urt\n",
      "Processing Record 1 of Set 5 | alamosa\n",
      "Processing Record 2 of Set 5 | ironton\n",
      "Processing Record 3 of Set 5 | hamilton\n",
      "Processing Record 4 of Set 5 | bilma\n",
      "Processing Record 5 of Set 5 | ostersund\n",
      "Processing Record 6 of Set 5 | lebu\n",
      "Processing Record 7 of Set 5 | east london\n",
      "Processing Record 8 of Set 5 | oga\n",
      "Processing Record 9 of Set 5 | vardo\n",
      "Processing Record 10 of Set 5 | husavik\n",
      "Processing Record 11 of Set 5 | ulstrup\n",
      "Processing Record 12 of Set 5 | panama city\n",
      "Processing Record 13 of Set 5 | ko samui\n",
      "Processing Record 14 of Set 5 | abu samrah\n",
      "Processing Record 15 of Set 5 | margate\n",
      "Processing Record 16 of Set 5 | matay\n",
      "Processing Record 17 of Set 5 | tura\n",
      "Processing Record 18 of Set 5 | deputatskiy\n",
      "Processing Record 19 of Set 5 | kharp\n",
      "Processing Record 20 of Set 5 | sale\n",
      "Processing Record 21 of Set 5 | karpogory\n",
      "Processing Record 22 of Set 5 | neiafu\n",
      "Processing Record 23 of Set 5 | hualmay\n",
      "Processing Record 24 of Set 5 | kaitangata\n",
      "Processing Record 25 of Set 5 | mana\n",
      "Processing Record 26 of Set 5 | la palma\n",
      "Processing Record 27 of Set 5 | plock\n",
      "Processing Record 28 of Set 5 | sarahan\n",
      "Processing Record 29 of Set 5 | qaanaaq\n",
      "City not found. Skipping...\n",
      "Processing Record 30 of Set 5 | odweyne\n",
      "Processing Record 31 of Set 5 | evensk\n",
      "Processing Record 32 of Set 5 | ust-kulom\n",
      "Processing Record 33 of Set 5 | somerset west\n",
      "Processing Record 34 of Set 5 | new norfolk\n",
      "Processing Record 35 of Set 5 | cidreira\n",
      "City not found. Skipping...\n",
      "Processing Record 36 of Set 5 | zaysan\n",
      "Processing Record 37 of Set 5 | arica\n",
      "City not found. Skipping...\n",
      "Processing Record 38 of Set 5 | abu kamal\n",
      "City not found. Skipping...\n",
      "Processing Record 39 of Set 5 | rucheng\n",
      "Processing Record 40 of Set 5 | yulara\n",
      "Processing Record 41 of Set 5 | flin flon\n",
      "Processing Record 42 of Set 5 | airai\n",
      "Processing Record 43 of Set 5 | coacoyul\n",
      "Processing Record 44 of Set 5 | bathsheba\n",
      "City not found. Skipping...\n",
      "Processing Record 45 of Set 5 | huilong\n",
      "Processing Record 46 of Set 5 | buchanan\n",
      "Processing Record 47 of Set 5 | omboue\n",
      "City not found. Skipping...\n",
      "Processing Record 48 of Set 5 | ancud\n",
      "Processing Record 49 of Set 5 | waipawa\n",
      "Processing Record 50 of Set 5 | nhulunbuy\n",
      "Processing Record 1 of Set 6 | ostrovnoy\n",
      "City not found. Skipping...\n",
      "Processing Record 2 of Set 6 | hyeres\n",
      "Processing Record 3 of Set 6 | ouallam\n",
      "Processing Record 4 of Set 6 | waraseoni\n",
      "Processing Record 5 of Set 6 | foggia\n",
      "Processing Record 6 of Set 6 | kavaratti\n",
      "Processing Record 7 of Set 6 | slave lake\n",
      "Processing Record 8 of Set 6 | pevek\n",
      "Processing Record 9 of Set 6 | srivardhan\n",
      "Processing Record 10 of Set 6 | college\n",
      "Processing Record 11 of Set 6 | yumen\n",
      "Processing Record 12 of Set 6 | shenjiamen\n",
      "Processing Record 13 of Set 6 | port macquarie\n",
      "Processing Record 14 of Set 6 | cherskiy\n",
      "Processing Record 15 of Set 6 | karratha\n",
      "Processing Record 16 of Set 6 | puerto carreno\n",
      "Processing Record 17 of Set 6 | visnes\n",
      "Processing Record 18 of Set 6 | marawi\n",
      "Processing Record 19 of Set 6 | isangel\n",
      "City not found. Skipping...\n",
      "Processing Record 20 of Set 6 | broken hill\n",
      "Processing Record 21 of Set 6 | westport\n",
      "Processing Record 22 of Set 6 | lasa\n",
      "Processing Record 23 of Set 6 | manokwari\n",
      "Processing Record 24 of Set 6 | vila velha\n",
      "Processing Record 25 of Set 6 | tabas\n",
      "Processing Record 26 of Set 6 | puerto escondido\n",
      "Processing Record 27 of Set 6 | san patricio\n",
      "Processing Record 28 of Set 6 | port hardy\n",
      "Processing Record 29 of Set 6 | kattivakkam\n",
      "Processing Record 30 of Set 6 | tocopilla\n",
      "Processing Record 31 of Set 6 | port lincoln\n",
      "Processing Record 32 of Set 6 | miri\n",
      "Processing Record 33 of Set 6 | siddipet\n",
      "Processing Record 34 of Set 6 | kabalo\n",
      "Processing Record 35 of Set 6 | jertih\n",
      "Processing Record 36 of Set 6 | ahipara\n",
      "Processing Record 37 of Set 6 | ponta do sol\n",
      "Processing Record 38 of Set 6 | talcahuano\n",
      "Processing Record 39 of Set 6 | harper\n",
      "Processing Record 40 of Set 6 | canto do buriti\n",
      "Processing Record 41 of Set 6 | quatre cocos\n",
      "Processing Record 42 of Set 6 | hobyo\n",
      "Processing Record 43 of Set 6 | kenora\n",
      "Processing Record 44 of Set 6 | praia\n",
      "Processing Record 45 of Set 6 | blackwater\n",
      "Processing Record 46 of Set 6 | micheweni\n",
      "Processing Record 47 of Set 6 | flagstaff\n",
      "Processing Record 48 of Set 6 | edson\n",
      "Processing Record 49 of Set 6 | marienburg\n",
      "Processing Record 50 of Set 6 | trincomalee\n",
      "Processing Record 1 of Set 7 | ribeira grande\n",
      "Processing Record 2 of Set 7 | kamenka\n",
      "Processing Record 3 of Set 7 | flinders\n",
      "Processing Record 4 of Set 7 | san cristobal\n",
      "Processing Record 5 of Set 7 | motril\n",
      "Processing Record 6 of Set 7 | ilulissat\n",
      "Processing Record 7 of Set 7 | kulhudhuffushi\n",
      "Processing Record 8 of Set 7 | yima\n",
      "Processing Record 9 of Set 7 | el porvenir\n",
      "Processing Record 10 of Set 7 | buala\n",
      "Processing Record 11 of Set 7 | kuruman\n",
      "Processing Record 12 of Set 7 | pontianak\n",
      "Processing Record 13 of Set 7 | mahon\n",
      "Processing Record 14 of Set 7 | roma\n",
      "Processing Record 15 of Set 7 | boa vista\n",
      "Processing Record 16 of Set 7 | shizuishan\n",
      "City not found. Skipping...\n",
      "Processing Record 17 of Set 7 | dobsice\n",
      "Processing Record 18 of Set 7 | inhambane\n",
      "Processing Record 19 of Set 7 | lazaro cardenas\n",
      "Processing Record 20 of Set 7 | san andres\n",
      "Processing Record 21 of Set 7 | salinopolis\n",
      "Processing Record 22 of Set 7 | mabaruma\n",
      "Processing Record 23 of Set 7 | visby\n",
      "Processing Record 24 of Set 7 | calbuco\n",
      "Processing Record 25 of Set 7 | hasaki\n",
      "Processing Record 26 of Set 7 | jaguarao\n",
      "Processing Record 27 of Set 7 | the valley\n",
      "Processing Record 28 of Set 7 | neyshabur\n",
      "Processing Record 29 of Set 7 | suamico\n",
      "Processing Record 30 of Set 7 | kuytun\n",
      "Processing Record 31 of Set 7 | taltal\n",
      "Processing Record 32 of Set 7 | carson city\n",
      "Processing Record 33 of Set 7 | pringsewu\n",
      "Processing Record 34 of Set 7 | akcaabat\n",
      "Processing Record 35 of Set 7 | kuryk\n",
      "Processing Record 36 of Set 7 | chissamba\n",
      "Processing Record 37 of Set 7 | qaqortoq\n",
      "City not found. Skipping...\n",
      "Processing Record 38 of Set 7 | havre-saint-pierre\n",
      "Processing Record 39 of Set 7 | castelldefels\n",
      "Processing Record 40 of Set 7 | kirkwall\n",
      "Processing Record 41 of Set 7 | ambilobe\n",
      "Processing Record 42 of Set 7 | agadez\n",
      "Processing Record 43 of Set 7 | oum hadjer\n",
      "Processing Record 44 of Set 7 | adrar\n",
      "Processing Record 45 of Set 7 | macduff\n",
      "Processing Record 46 of Set 7 | tautira\n",
      "Processing Record 47 of Set 7 | derzhavinsk\n",
      "Processing Record 48 of Set 7 | naze\n",
      "Processing Record 49 of Set 7 | preobrazheniye\n",
      "Processing Record 50 of Set 7 | maragogi\n",
      "Processing Record 1 of Set 8 | oktyabrskoye\n",
      "Processing Record 2 of Set 8 | bonavista\n",
      "Processing Record 3 of Set 8 | chicama\n",
      "Processing Record 4 of Set 8 | kismayo\n",
      "Processing Record 5 of Set 8 | beberibe\n",
      "Processing Record 6 of Set 8 | zhanaozen\n",
      "City not found. Skipping...\n",
      "Processing Record 7 of Set 8 | sitka\n",
      "Processing Record 8 of Set 8 | itoman\n",
      "Processing Record 9 of Set 8 | saint-pierre\n",
      "Processing Record 10 of Set 8 | komsomolskiy\n",
      "Processing Record 11 of Set 8 | portales\n",
      "Processing Record 12 of Set 8 | nanortalik\n",
      "Processing Record 13 of Set 8 | batagay-alyta\n",
      "Processing Record 14 of Set 8 | missoula\n",
      "Processing Record 15 of Set 8 | tarrafal\n",
      "Processing Record 16 of Set 8 | dubbo\n",
      "Processing Record 17 of Set 8 | port arthur\n",
      "Processing Record 18 of Set 8 | yarmouth\n",
      "Processing Record 19 of Set 8 | uray\n",
      "City not found. Skipping...\n",
      "Processing Record 20 of Set 8 | oxchuc\n",
      "City not found. Skipping...\n",
      "Processing Record 21 of Set 8 | olinda\n",
      "Processing Record 22 of Set 8 | diamantino\n",
      "Processing Record 23 of Set 8 | nizhniy tsasuchey\n",
      "Processing Record 24 of Set 8 | baykit\n",
      "City not found. Skipping...\n",
      "Processing Record 25 of Set 8 | estelle\n"
     ]
    },
    {
     "name": "stdout",
     "output_type": "stream",
     "text": [
      "Processing Record 26 of Set 8 | lander\n",
      "Processing Record 27 of Set 8 | nova prata\n",
      "Processing Record 28 of Set 8 | sioux lookout\n",
      "Processing Record 29 of Set 8 | anjozorobe\n",
      "Processing Record 30 of Set 8 | kununurra\n",
      "Processing Record 31 of Set 8 | nova olimpia\n",
      "Processing Record 32 of Set 8 | belmonte\n",
      "Processing Record 33 of Set 8 | hope\n",
      "Processing Record 34 of Set 8 | bushehr\n",
      "Processing Record 35 of Set 8 | half moon bay\n",
      "Processing Record 36 of Set 8 | asyut\n",
      "Processing Record 37 of Set 8 | pokhvistnevo\n",
      "Processing Record 38 of Set 8 | beloha\n",
      "Processing Record 39 of Set 8 | jalalabad\n",
      "Processing Record 40 of Set 8 | krasnoselkup\n",
      "Processing Record 41 of Set 8 | preston\n",
      "Processing Record 42 of Set 8 | hoshcha\n",
      "Processing Record 43 of Set 8 | clyde river\n",
      "Processing Record 44 of Set 8 | umm kaddadah\n",
      "Processing Record 45 of Set 8 | sinnamary\n",
      "City not found. Skipping...\n",
      "Processing Record 46 of Set 8 | petropavlovsk-kamchatskiy\n",
      "Processing Record 47 of Set 8 | petropavl\n",
      "Processing Record 48 of Set 8 | sawtell\n",
      "Processing Record 49 of Set 8 | cupira\n",
      "Processing Record 50 of Set 8 | portland\n",
      "Processing Record 1 of Set 9 | pacocha\n",
      "Processing Record 2 of Set 9 | palauig\n",
      "Processing Record 3 of Set 9 | hala\n",
      "Processing Record 4 of Set 9 | faya\n",
      "Processing Record 5 of Set 9 | kingman\n",
      "Processing Record 6 of Set 9 | kralendijk\n",
      "Processing Record 7 of Set 9 | ranong\n",
      "Processing Record 8 of Set 9 | rawson\n",
      "Processing Record 9 of Set 9 | khani\n",
      "Processing Record 10 of Set 9 | boyolangu\n",
      "Processing Record 11 of Set 9 | freeport\n",
      "Processing Record 12 of Set 9 | waitati\n",
      "Processing Record 13 of Set 9 | caravelas\n",
      "Processing Record 14 of Set 9 | nador\n",
      "Processing Record 15 of Set 9 | mahebourg\n",
      "Processing Record 16 of Set 9 | doka\n",
      "Processing Record 17 of Set 9 | baton rouge\n",
      "Processing Record 18 of Set 9 | lithakia\n",
      "Processing Record 19 of Set 9 | vitoria\n",
      "City not found. Skipping...\n",
      "Processing Record 20 of Set 9 | hammerfest\n",
      "Processing Record 21 of Set 9 | tombouctou\n",
      "Processing Record 22 of Set 9 | dunhua\n",
      "Processing Record 23 of Set 9 | chekhov\n",
      "Processing Record 24 of Set 9 | khromtau\n",
      "Processing Record 25 of Set 9 | richards bay\n",
      "Processing Record 26 of Set 9 | korla\n",
      "Processing Record 27 of Set 9 | maniitsoq\n",
      "Processing Record 28 of Set 9 | tambopata\n",
      "Processing Record 29 of Set 9 | bistrica\n",
      "Processing Record 30 of Set 9 | kibala\n",
      "Processing Record 31 of Set 9 | kaili\n",
      "City not found. Skipping...\n",
      "Processing Record 32 of Set 9 | ormara\n",
      "Processing Record 33 of Set 9 | mitha tiwana\n",
      "Processing Record 34 of Set 9 | kilindoni\n",
      "Processing Record 35 of Set 9 | altea\n",
      "Processing Record 36 of Set 9 | huangmei\n",
      "Processing Record 37 of Set 9 | guerrero negro\n",
      "City not found. Skipping...\n",
      "Processing Record 38 of Set 9 | aksu\n",
      "Processing Record 39 of Set 9 | general roca\n",
      "Processing Record 40 of Set 9 | swan hill\n",
      "Processing Record 41 of Set 9 | acapulco\n",
      "Processing Record 42 of Set 9 | nieuw amsterdam\n",
      "Processing Record 43 of Set 9 | sechura\n",
      "Processing Record 44 of Set 9 | manbij\n",
      "Processing Record 45 of Set 9 | ventspils\n",
      "Processing Record 46 of Set 9 | medvedka\n",
      "Processing Record 47 of Set 9 | constitucion\n",
      "Processing Record 48 of Set 9 | krasnaya gora\n",
      "City not found. Skipping...\n",
      "Processing Record 49 of Set 9 | khasan\n",
      "Processing Record 50 of Set 9 | kropotkin\n",
      "Processing Record 1 of Set 10 | salalah\n",
      "Processing Record 2 of Set 10 | emirdag\n",
      "Processing Record 3 of Set 10 | scarborough\n",
      "City not found. Skipping...\n",
      "Processing Record 4 of Set 10 | luderitz\n",
      "Processing Record 5 of Set 10 | cap malheureux\n",
      "Processing Record 6 of Set 10 | ati\n",
      "Processing Record 7 of Set 10 | neuquen\n",
      "Processing Record 8 of Set 10 | dingle\n",
      "Processing Record 9 of Set 10 | surt\n",
      "Processing Record 10 of Set 10 | shahr-e babak\n",
      "Processing Record 11 of Set 10 | bashtanka\n",
      "Processing Record 12 of Set 10 | gamba\n",
      "Processing Record 13 of Set 10 | karaton\n",
      "Processing Record 14 of Set 10 | robertson\n",
      "City not found. Skipping...\n",
      "Processing Record 15 of Set 10 | cockburn town\n",
      "Processing Record 16 of Set 10 | walvis bay\n",
      "Processing Record 17 of Set 10 | mehran\n",
      "Processing Record 18 of Set 10 | rocha\n",
      "Processing Record 19 of Set 10 | bandarbeyla\n",
      "Processing Record 20 of Set 10 | kudahuvadhoo\n",
      "Processing Record 21 of Set 10 | baijiantan\n",
      "Processing Record 22 of Set 10 | banda aceh\n",
      "Processing Record 23 of Set 10 | kushiro\n",
      "Processing Record 24 of Set 10 | alta floresta\n",
      "Processing Record 25 of Set 10 | bowen\n",
      "Processing Record 26 of Set 10 | jyvaskyla\n",
      "Processing Record 27 of Set 10 | muchkapskiy\n",
      "Processing Record 28 of Set 10 | hafizabad\n",
      "Processing Record 29 of Set 10 | nizwa\n",
      "Processing Record 30 of Set 10 | umm lajj\n",
      "Processing Record 31 of Set 10 | jiwani\n",
      "Processing Record 32 of Set 10 | edd\n",
      "Processing Record 33 of Set 10 | daia\n",
      "Processing Record 34 of Set 10 | la sarre\n",
      "Processing Record 35 of Set 10 | ixtapa\n",
      "Processing Record 36 of Set 10 | saint-agapit\n",
      "Processing Record 37 of Set 10 | miyakonojo\n",
      "Processing Record 38 of Set 10 | ayorou\n",
      "Processing Record 39 of Set 10 | cotonou\n",
      "Processing Record 40 of Set 10 | santa rosa\n",
      "Processing Record 41 of Set 10 | avera\n",
      "Processing Record 42 of Set 10 | hay river\n",
      "Processing Record 43 of Set 10 | padang\n",
      "Processing Record 44 of Set 10 | trier\n",
      "Processing Record 45 of Set 10 | muyezerskiy\n",
      "Processing Record 46 of Set 10 | marsciano\n",
      "City not found. Skipping...\n",
      "Processing Record 47 of Set 10 | ternova\n",
      "Processing Record 48 of Set 10 | mae chan\n",
      "Processing Record 49 of Set 10 | kang\n",
      "Processing Record 50 of Set 10 | dabat\n",
      "City not found. Skipping...\n",
      "Processing Record 1 of Set 11 | mandera\n",
      "Processing Record 2 of Set 11 | port-cartier\n",
      "Processing Record 3 of Set 11 | young\n",
      "Processing Record 4 of Set 11 | manado\n",
      "Processing Record 5 of Set 11 | saint-joseph\n",
      "Processing Record 6 of Set 11 | harbour breton\n",
      "Processing Record 7 of Set 11 | pitimbu\n",
      "Processing Record 8 of Set 11 | burnie\n",
      "Processing Record 9 of Set 11 | tevriz\n",
      "Processing Record 10 of Set 11 | aracruz\n",
      "Processing Record 11 of Set 11 | tefe\n",
      "Processing Record 12 of Set 11 | zalantun\n",
      "Processing Record 13 of Set 11 | palana\n",
      "Processing Record 14 of Set 11 | collie\n",
      "Processing Record 15 of Set 11 | delijan\n",
      "Processing Record 16 of Set 11 | wisconsin rapids\n",
      "Processing Record 17 of Set 11 | lavrentiya\n",
      "City not found. Skipping...\n",
      "Processing Record 18 of Set 11 | launceston\n",
      "Processing Record 19 of Set 11 | perelyub\n",
      "Processing Record 20 of Set 11 | pontian kecil\n",
      "Processing Record 21 of Set 11 | usinsk\n",
      "Processing Record 22 of Set 11 | fairview\n",
      "Processing Record 23 of Set 11 | aykhal\n",
      "Processing Record 24 of Set 11 | gambela\n",
      "Processing Record 25 of Set 11 | fortuna\n",
      "City not found. Skipping...\n",
      "Processing Record 26 of Set 11 | awbari\n",
      "Processing Record 27 of Set 11 | fatezh\n",
      "Processing Record 28 of Set 11 | mulege\n",
      "Processing Record 29 of Set 11 | lodwar\n",
      "Processing Record 30 of Set 11 | havelock\n",
      "Processing Record 31 of Set 11 | daoukro\n",
      "Processing Record 32 of Set 11 | mendi\n",
      "Processing Record 33 of Set 11 | cayenne\n",
      "Processing Record 34 of Set 11 | tiruchchendur\n",
      "Processing Record 35 of Set 11 | suntar\n",
      "Processing Record 36 of Set 11 | zharkent\n",
      "Processing Record 37 of Set 11 | amapa\n",
      "Processing Record 38 of Set 11 | shira\n",
      "Processing Record 39 of Set 11 | saldanha\n",
      "City not found. Skipping...\n",
      "Processing Record 40 of Set 11 | kuvshinovo\n",
      "Processing Record 41 of Set 11 | santa marta de tormes\n",
      "Processing Record 42 of Set 11 | morros\n",
      "Processing Record 43 of Set 11 | bako\n",
      "Processing Record 44 of Set 11 | huangpu\n",
      "Processing Record 45 of Set 11 | apricena\n",
      "Processing Record 46 of Set 11 | mangrol\n",
      "Processing Record 47 of Set 11 | pleasant point\n",
      "Processing Record 48 of Set 11 | aswan\n",
      "Processing Record 49 of Set 11 | roebourne\n",
      "Processing Record 50 of Set 11 | rabat\n",
      "Processing Record 1 of Set 12 | port blair\n",
      "\n",
      "-----------------------------\n",
      "Data Retrival Complete\n",
      "-----------------------------\n"
     ]
    }
   ],
   "source": [
    "url = \"http://api.openweathermap.org/data/2.5/weather?\"\n",
    "units = \"metric\"\n",
    "count_num = 1\n",
    "set_num = 1\n",
    "\n",
    "query_url = f\"{url}appid={weather_api_key}&units={units}&q=\"\n",
    "city_name = []\n",
    "lat = []\n",
    "lng = []\n",
    "date = []\n",
    "country = []\n",
    "max_temp = []\n",
    "humidity = []\n",
    "cloudiness = []\n",
    "wind_speed = []\n",
    "\n",
    "for city in cities:\n",
    "    response = requests.get(query_url + city).json()\n",
    "    \n",
    "    try:\n",
    "        city_name.append(response[\"name\"])\n",
    "        country.append(response[\"sys\"][\"country\"])\n",
    "        date.append(response[\"dt\"])\n",
    "        max_temp.append(response['main']['temp_max'])\n",
    "        humidity.append(response['main']['humidity'])\n",
    "        cloudiness.append(response['clouds']['all'])\n",
    "        wind_speed.append(response['wind']['speed'])\n",
    "        lat.append(response[\"coord\"][\"lat\"])\n",
    "        lng.append(response[\"coord\"][\"lon\"])\n",
    "        \n",
    "        print(f\"Processing Record {count_num} of Set {set_num} | {city}\")        \n",
    "        \n",
    "        count_num += 1\n",
    "    except:\n",
    "        print(\"City not found. Skipping...\")\n",
    "        pass\n",
    "    \n",
    "    if count_num == 51:\n",
    "        set_num += 1\n",
    "        count_num = 1\n",
    "    \n",
    "print('''\n",
    "-----------------------------\n",
    "Data Retrival Complete\n",
    "-----------------------------''')"
   ]
  },
  {
   "cell_type": "code",
   "execution_count": 4,
   "metadata": {},
   "outputs": [
    {
     "data": {
      "text/html": [
       "<div>\n",
       "<style scoped>\n",
       "    .dataframe tbody tr th:only-of-type {\n",
       "        vertical-align: middle;\n",
       "    }\n",
       "\n",
       "    .dataframe tbody tr th {\n",
       "        vertical-align: top;\n",
       "    }\n",
       "\n",
       "    .dataframe thead th {\n",
       "        text-align: right;\n",
       "    }\n",
       "</style>\n",
       "<table border=\"1\" class=\"dataframe\">\n",
       "  <thead>\n",
       "    <tr style=\"text-align: right;\">\n",
       "      <th></th>\n",
       "      <th>City</th>\n",
       "      <th>Lat</th>\n",
       "      <th>Lng</th>\n",
       "      <th>Max Temp</th>\n",
       "      <th>Humidity</th>\n",
       "      <th>Cloudiness</th>\n",
       "      <th>Wind Speed</th>\n",
       "      <th>Country</th>\n",
       "      <th>Date</th>\n",
       "    </tr>\n",
       "  </thead>\n",
       "  <tbody>\n",
       "    <tr>\n",
       "      <th>0</th>\n",
       "      <td>Cape Town</td>\n",
       "      <td>-33.93</td>\n",
       "      <td>18.42</td>\n",
       "      <td>19.44</td>\n",
       "      <td>82</td>\n",
       "      <td>20</td>\n",
       "      <td>4.10</td>\n",
       "      <td>ZA</td>\n",
       "      <td>1604543581</td>\n",
       "    </tr>\n",
       "    <tr>\n",
       "      <th>1</th>\n",
       "      <td>Dikson</td>\n",
       "      <td>73.51</td>\n",
       "      <td>80.55</td>\n",
       "      <td>-16.69</td>\n",
       "      <td>91</td>\n",
       "      <td>0</td>\n",
       "      <td>2.48</td>\n",
       "      <td>RU</td>\n",
       "      <td>1604543554</td>\n",
       "    </tr>\n",
       "    <tr>\n",
       "      <th>2</th>\n",
       "      <td>Arrondissement de Saint-Malo</td>\n",
       "      <td>48.50</td>\n",
       "      <td>-1.83</td>\n",
       "      <td>6.00</td>\n",
       "      <td>87</td>\n",
       "      <td>0</td>\n",
       "      <td>3.10</td>\n",
       "      <td>FR</td>\n",
       "      <td>1604543663</td>\n",
       "    </tr>\n",
       "    <tr>\n",
       "      <th>3</th>\n",
       "      <td>Piteå</td>\n",
       "      <td>65.32</td>\n",
       "      <td>21.48</td>\n",
       "      <td>5.00</td>\n",
       "      <td>75</td>\n",
       "      <td>99</td>\n",
       "      <td>5.10</td>\n",
       "      <td>SE</td>\n",
       "      <td>1604543663</td>\n",
       "    </tr>\n",
       "    <tr>\n",
       "      <th>4</th>\n",
       "      <td>Muros</td>\n",
       "      <td>42.78</td>\n",
       "      <td>-9.06</td>\n",
       "      <td>11.67</td>\n",
       "      <td>66</td>\n",
       "      <td>90</td>\n",
       "      <td>2.24</td>\n",
       "      <td>ES</td>\n",
       "      <td>1604543634</td>\n",
       "    </tr>\n",
       "  </tbody>\n",
       "</table>\n",
       "</div>"
      ],
      "text/plain": [
       "                           City    Lat    Lng  Max Temp  Humidity  Cloudiness  \\\n",
       "0                     Cape Town -33.93  18.42     19.44        82          20   \n",
       "1                        Dikson  73.51  80.55    -16.69        91           0   \n",
       "2  Arrondissement de Saint-Malo  48.50  -1.83      6.00        87           0   \n",
       "3                         Piteå  65.32  21.48      5.00        75          99   \n",
       "4                         Muros  42.78  -9.06     11.67        66          90   \n",
       "\n",
       "   Wind Speed Country        Date  \n",
       "0        4.10      ZA  1604543581  \n",
       "1        2.48      RU  1604543554  \n",
       "2        3.10      FR  1604543663  \n",
       "3        5.10      SE  1604543663  \n",
       "4        2.24      ES  1604543634  "
      ]
     },
     "execution_count": 4,
     "metadata": {},
     "output_type": "execute_result"
    }
   ],
   "source": [
    "weather = pd.DataFrame({\n",
    "    \"City\" : city_name,\n",
    "    \"Lat\" : lat,\n",
    "    \"Lng\" : lng,\n",
    "    \"Max Temp\" : max_temp,\n",
    "    \"Humidity\" : humidity,\n",
    "    \"Cloudiness\" : cloudiness,\n",
    "    \"Wind Speed\" : wind_speed,\n",
    "    \"Country\" : country,\n",
    "    \"Date\" : date\n",
    "})\n",
    "\n",
    "weather.head()"
   ]
  },
  {
   "cell_type": "code",
   "execution_count": 5,
   "metadata": {},
   "outputs": [],
   "source": [
    "weather.to_csv(\"weather_data.csv\")"
   ]
  },
  {
   "cell_type": "code",
   "execution_count": 6,
   "metadata": {},
   "outputs": [
    {
     "data": {
      "text/plain": [
       "<matplotlib.collections.PathCollection at 0x7f8b29265e50>"
      ]
     },
     "execution_count": 6,
     "metadata": {},
     "output_type": "execute_result"
    },
    {
     "data": {
      "image/png": "[encoded data removed]",
      "text/plain": [
       "<Figure size 432x288 with 1 Axes>"
      ]
     },
     "metadata": {
      "needs_background": "light"
     },
     "output_type": "display_data"
    }
   ],
   "source": [
    "plt.scatter(weather[\"Lat\"], weather[\"Max Temp\"])"
   ]
  },
  {
   "cell_type": "code",
   "execution_count": 7,
   "metadata": {},
   "outputs": [
    {
     "data": {
      "text/plain": [
       "<matplotlib.collections.PathCollection at 0x7f8b29309760>"
      ]
     },
     "execution_count": 7,
     "metadata": {},
     "output_type": "execute_result"
    },
    {
     "data": {
      "image/png": "[encoded data removed]",
      "text/plain": [
       "<Figure size 432x288 with 1 Axes>"
      ]
     },
     "metadata": {
      "needs_background": "light"
     },
     "output_type": "display_data"
    }
   ],
   "source": [
    "plt.scatter(weather[\"Lat\"], weather[\"Humidity\"])"
   ]
  },
  {
   "cell_type": "code",
   "execution_count": 8,
   "metadata": {},
   "outputs": [
    {
     "data": {
      "text/plain": [
       "<matplotlib.collections.PathCollection at 0x7f8b293e14c0>"
      ]
     },
     "execution_count": 8,
     "metadata": {},
     "output_type": "execute_result"
    },
    {
     "data": {
      "image/png": "[encoded data removed]",
      "text/plain": [
       "<Figure size 432x288 with 1 Axes>"
      ]
     },
     "metadata": {
      "needs_background": "light"
     },
     "output_type": "display_data"
    }
   ],
   "source": [
    "plt.scatter(weather[\"Lat\"], weather[\"Cloudiness\"])"
   ]
  },
  {
   "cell_type": "code",
   "execution_count": 9,
   "metadata": {},
   "outputs": [
    {
     "data": {
      "text/plain": [
       "<matplotlib.collections.PathCollection at 0x7f8b294384f0>"
      ]
     },
     "execution_count": 9,
     "metadata": {},
     "output_type": "execute_result"
    },
    {
     "data": {
      "image/png": "[encoded data removed]",
      "text/plain": [
       "<Figure size 432x288 with 1 Axes>"
      ]
     },
     "metadata": {
      "needs_background": "light"
     },
     "output_type": "display_data"
    }
   ],
   "source": [
    "plt.scatter(weather[\"Lat\"], weather[\"Wind Speed\"])"
   ]
  },
  {
   "cell_type": "code",
   "execution_count": 35,
   "metadata": {},
   "outputs": [],
   "source": [
    "northern_hem = weather.loc[weather[\"Lat\"] > 0]\n",
    "southern_hem = weather.loc[weather[\"Lat\"] < 0]"
   ]
  },
  {
   "cell_type": "code",
   "execution_count": 47,
   "metadata": {},
   "outputs": [
    {
     "name": "stdout",
     "output_type": "stream",
     "text": [
      "The r value is -0.86\n"
     ]
    },
    {
     "data": {
      "image/png": "[encoded data removed]",
      "text/plain": [
       "<Figure size 432x288 with 1 Axes>"
      ]
     },
     "metadata": {
      "needs_background": "light"
     },
     "output_type": "display_data"
    }
   ],
   "source": [
    "northern_temp = round(st.pearsonr(northern_hem['Lat'],northern_hem['Max Temp'])[0],2)\n",
    "\n",
    "model = st.linregress(northern_hem['Lat'],northern_hem['Max Temp'])\n",
    "\n",
    "y_values = northern_hem['Lat']*model[0]+model[1]\n",
    "plt.scatter(northern_hem['Lat'],northern_hem['Max Temp'])\n",
    "plt.plot(northern_hem['Lat'],y_values,color=\"red\")\n",
    "print(f\"The r value is {northern_temp}\")"
   ]
  },
  {
   "cell_type": "code",
   "execution_count": 46,
   "metadata": {},
   "outputs": [
    {
     "name": "stdout",
     "output_type": "stream",
     "text": [
      "The r value is 0.65\n"
     ]
    },
    {
     "data": {
      "image/png": "[encoded data removed]",
      "text/plain": [
       "<Figure size 432x288 with 1 Axes>"
      ]
     },
     "metadata": {
      "needs_background": "light"
     },
     "output_type": "display_data"
    }
   ],
   "source": [
    "southern_temp = round(st.pearsonr(southern_hem['Lat'],southern_hem['Max Temp'])[0],2)\n",
    "\n",
    "model1 = st.linregress(southern_hem['Lat'],southern_hem['Max Temp'])\n",
    "\n",
    "y_values1 = southern_hem['Lat']*model1[0]+model1[1]\n",
    "plt.scatter(southern_hem['Lat'],southern_hem['Max Temp'])\n",
    "plt.plot(southern_hem['Lat'],y_values1,color=\"red\")\n",
    "print(f\"The r value is {southern_temp}\")"
   ]
  },
  {
   "cell_type": "code",
   "execution_count": 45,
   "metadata": {},
   "outputs": [
    {
     "name": "stdout",
     "output_type": "stream",
     "text": [
      "The r value is 0.25\n"
     ]
    },
    {
     "data": {
      "image/png": "[encoded data removed]",
      "text/plain": [
       "<Figure size 432x288 with 1 Axes>"
      ]
     },
     "metadata": {
      "needs_background": "light"
     },
     "output_type": "display_data"
    }
   ],
   "source": [
    "northern_hum = round(st.pearsonr(northern_hem['Lat'],northern_hem['Humidity'])[0],2)\n",
    "\n",
    "model2 = st.linregress(northern_hem['Lat'],northern_hem['Humidity'])\n",
    "\n",
    "y_values2 = northern_hem['Lat']*model2[0]+model2[1]\n",
    "plt.scatter(northern_hem['Lat'],northern_hem['Humidity'])\n",
    "plt.plot(northern_hem['Lat'],y_values2,color=\"red\")\n",
    "print(f\"The r value is {northern_hum}\")"
   ]
  },
  {
   "cell_type": "code",
   "execution_count": 48,
   "metadata": {},
   "outputs": [
    {
     "name": "stdout",
     "output_type": "stream",
     "text": [
      "The r value is 0.15\n"
     ]
    },
    {
     "data": {
      "image/png": "[encoded data removed]",
      "text/plain": [
       "<Figure size 432x288 with 1 Axes>"
      ]
     },
     "metadata": {
      "needs_background": "light"
     },
     "output_type": "display_data"
    }
   ],
   "source": [
    "southern_hum = round(st.pearsonr(southern_hem['Lat'],southern_hem['Humidity'])[0],2)\n",
    "\n",
    "model3 = st.linregress(southern_hem['Lat'],southern_hem['Humidity'])\n",
    "\n",
    "y_values3 = southern_hem['Lat']*model3[0]+model3[1]\n",
    "plt.scatter(southern_hem['Lat'],southern_hem['Humidity'])\n",
    "plt.plot(southern_hem['Lat'],y_values3,color=\"red\")\n",
    "print(f\"The r value is {southern_hum}\")"
   ]
  },
  {
   "cell_type": "code",
   "execution_count": 49,
   "metadata": {},
   "outputs": [
    {
     "name": "stdout",
     "output_type": "stream",
     "text": [
      "The r value is 0.28\n"
     ]
    },
    {
     "data": {
      "image/png": "[encoded data removed]",
      "text/plain": [
       "<Figure size 432x288 with 1 Axes>"
      ]
     },
     "metadata": {
      "needs_background": "light"
     },
     "output_type": "display_data"
    }
   ],
   "source": [
    "northern_cloud = round(st.pearsonr(northern_hem['Lat'],northern_hem['Cloudiness'])[0],2)\n",
    "\n",
    "model4 = st.linregress(northern_hem['Lat'],northern_hem['Cloudiness'])\n",
    "\n",
    "y_values4 = northern_hem['Lat']*model4[0]+model4[1]\n",
    "plt.scatter(northern_hem['Lat'],northern_hem['Cloudiness'])\n",
    "plt.plot(northern_hem['Lat'],y_values4,color=\"red\")\n",
    "print(f\"The r value is {northern_cloud}\")"
   ]
  },
  {
   "cell_type": "code",
   "execution_count": 50,
   "metadata": {},
   "outputs": [
    {
     "name": "stdout",
     "output_type": "stream",
     "text": [
      "The r value is 0.13\n"
     ]
    },
    {
     "data": {
      "image/png": "[encoded data removed]",
      "text/plain": [
       "<Figure size 432x288 with 1 Axes>"
      ]
     },
     "metadata": {
      "needs_background": "light"
     },
     "output_type": "display_data"
    }
   ],
   "source": [
    "southern_cloud = round(st.pearsonr(southern_hem['Lat'],southern_hem['Cloudiness'])[0],2)\n",
    "\n",
    "model5 = st.linregress(southern_hem['Lat'],southern_hem['Cloudiness'])\n",
    "\n",
    "y_values5 = southern_hem['Lat']*model5[0]+model5[1]\n",
    "plt.scatter(southern_hem['Lat'],southern_hem['Cloudiness'])\n",
    "plt.plot(southern_hem['Lat'],y_values5,color=\"red\")\n",
    "print(f\"The r value is {southern_cloud}\")"
   ]
  },
  {
   "cell_type": "code",
   "execution_count": 51,
   "metadata": {},
   "outputs": [
    {
     "name": "stdout",
     "output_type": "stream",
     "text": [
      "The r value is 0.37\n"
     ]
    },
    {
     "data": {
      "image/png": "[encoded data removed]",
      "text/plain": [
       "<Figure size 432x288 with 1 Axes>"
      ]
     },
     "metadata": {
      "needs_background": "light"
     },
     "output_type": "display_data"
    }
   ],
   "source": [
    "northern_wind = round(st.pearsonr(northern_hem['Lat'],northern_hem['Wind Speed'])[0],2)\n",
    "\n",
    "model6 = st.linregress(northern_hem['Lat'],northern_hem['Wind Speed'])\n",
    "\n",
    "y_values6 = northern_hem['Lat']*model6[0]+model6[1]\n",
    "plt.scatter(northern_hem['Lat'],northern_hem['Wind Speed'])\n",
    "plt.plot(northern_hem['Lat'],y_values6,color=\"red\")\n",
    "print(f\"The r value is {northern_wind}\")"
   ]
  },
  {
   "cell_type": "code",
   "execution_count": 52,
   "metadata": {},
   "outputs": [
    {
     "name": "stdout",
     "output_type": "stream",
     "text": [
      "The r value is -0.32\n"
     ]
    },
    {
     "data": {
      "image/png": "[encoded data removed]",
      "text/plain": [
       "<Figure size 432x288 with 1 Axes>"
      ]
     },
     "metadata": {
      "needs_background": "light"
     },
     "output_type": "display_data"
    }
   ],
   "source": [
    "southern_wind = round(st.pearsonr(southern_hem['Lat'],southern_hem['Wind Speed'])[0],2)\n",
    "\n",
    "model7 = st.linregress(southern_hem['Lat'],southern_hem['Wind Speed'])\n",
    "\n",
    "y_values7 = southern_hem['Lat']*model7[0]+model7[1]\n",
    "plt.scatter(southern_hem['Lat'],southern_hem['Wind Speed'])\n",
    "plt.plot(southern_hem['Lat'],y_values7,color=\"red\")\n",
    "print(f\"The r value is {southern_wind}\")"
   ]
  },
  {
   "cell_type": "code",
   "execution_count": null,
   "metadata": {},
   "outputs": [],
   "source": []
  }
 ],
 "metadata": {
  "kernelspec": {
   "display_name": "Python 3",
   "language": "python",
   "name": "python3"
  },
  "language_info": {
   "codemirror_mode": {
    "name": "ipython",
    "version": 3
   },
   "file_extension": ".py",
   "mimetype": "text/x-python",
   "name": "python",
   "nbconvert_exporter": "python",
   "pygments_lexer": "ipython3",
   "version": "3.8.3"
  }
 },
 "nbformat": 4,
 "nbformat_minor": 4
}
